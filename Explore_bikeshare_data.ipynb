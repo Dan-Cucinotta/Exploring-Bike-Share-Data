{
 "cells": [
  {
   "cell_type": "markdown",
   "metadata": {
    "graffitiCellId": "id_xjr2vc8"
   },
   "source": [
    "### Explore Bike Share Data Project\n",
    "\n"
   ]
  },
  {
   "cell_type": "markdown",
   "metadata": {},
   "source": [
    "\n"
   ]
  },
  {
   "cell_type": "code",
   "execution_count": 309,
   "metadata": {
    "graffitiCellId": "id_80g6w7q"
   },
   "outputs": [],
   "source": [
    "# Import libraries.\n",
    "library(tidyverse)"
   ]
  },
  {
   "cell_type": "code",
   "execution_count": 310,
   "metadata": {
    "graffitiCellId": "id_y3e4kyj"
   },
   "outputs": [],
   "source": [
    "# Read csv files into dataframe.\n",
    "ny = read.csv('new_york_city.csv')\n",
    "wash = read.csv('washington.csv')\n",
    "chi = read.csv('chicago.csv')"
   ]
  },
  {
   "cell_type": "code",
   "execution_count": 311,
   "metadata": {
    "graffitiCellId": "id_x8z2n0f"
   },
   "outputs": [
    {
     "data": {
      "text/html": [
       "<table>\n",
       "<thead><tr><th scope=col>X</th><th scope=col>Start.Time</th><th scope=col>End.Time</th><th scope=col>Trip.Duration</th><th scope=col>Start.Station</th><th scope=col>End.Station</th><th scope=col>User.Type</th><th scope=col>Gender</th><th scope=col>Birth.Year</th></tr></thead>\n",
       "<tbody>\n",
       "\t<tr><td>5688089                                       </td><td>2017-06-11 14:55:05                           </td><td>2017-06-11 15:08:21                           </td><td> 795                                          </td><td>Suffolk St &amp; Stanton St                   </td><td>W Broadway &amp; Spring St                    </td><td>Subscriber                                    </td><td><span style=white-space:pre-wrap>Male  </span></td><td>1998                                          </td></tr>\n",
       "\t<tr><td>4096714                                                           </td><td>2017-05-11 15:30:11                                               </td><td>2017-05-11 15:41:43                                               </td><td> 692                                                              </td><td>Lexington Ave &amp; E 63 St                                       </td><td><span style=white-space:pre-wrap>1 Ave &amp; E 78 St       </span></td><td>Subscriber                                                        </td><td><span style=white-space:pre-wrap>Male  </span>                    </td><td>1981                                                              </td></tr>\n",
       "\t<tr><td>2173887                                                            </td><td>2017-03-29 13:26:26                                                </td><td>2017-03-29 13:48:31                                                </td><td>1325                                                               </td><td><span style=white-space:pre-wrap>1 Pl &amp; Clinton St      </span></td><td><span style=white-space:pre-wrap>Henry St &amp; Degraw St  </span> </td><td>Subscriber                                                         </td><td><span style=white-space:pre-wrap>Male  </span>                     </td><td>1987                                                               </td></tr>\n",
       "\t<tr><td>3945638                                                            </td><td>2017-05-08 19:47:18                                                </td><td>2017-05-08 19:59:01                                                </td><td> 703                                                               </td><td><span style=white-space:pre-wrap>Barrow St &amp; Hudson St  </span></td><td><span style=white-space:pre-wrap>W 20 St &amp; 8 Ave       </span> </td><td>Subscriber                                                         </td><td>Female                                                             </td><td>1986                                                               </td></tr>\n",
       "\t<tr><td>6208972                                                            </td><td>2017-06-21 07:49:16                                                </td><td>2017-06-21 07:54:46                                                </td><td> 329                                                               </td><td><span style=white-space:pre-wrap>1 Ave &amp; E 44 St        </span></td><td><span style=white-space:pre-wrap>E 53 St &amp; 3 Ave       </span> </td><td>Subscriber                                                         </td><td><span style=white-space:pre-wrap>Male  </span>                     </td><td>1992                                                               </td></tr>\n",
       "\t<tr><td>1285652                                                            </td><td>2017-02-22 18:55:24                                                </td><td>2017-02-22 19:12:03                                                </td><td> 998                                                               </td><td><span style=white-space:pre-wrap>State St &amp; Smith St    </span></td><td><span style=white-space:pre-wrap>Bond St &amp; Fulton St   </span> </td><td>Subscriber                                                         </td><td><span style=white-space:pre-wrap>Male  </span>                     </td><td>1986                                                               </td></tr>\n",
       "</tbody>\n",
       "</table>\n"
      ],
      "text/latex": [
       "\\begin{tabular}{r|lllllllll}\n",
       " X & Start.Time & End.Time & Trip.Duration & Start.Station & End.Station & User.Type & Gender & Birth.Year\\\\\n",
       "\\hline\n",
       "\t 5688089                   & 2017-06-11 14:55:05       & 2017-06-11 15:08:21       &  795                      & Suffolk St \\& Stanton St & W Broadway \\& Spring St  & Subscriber                & Male                      & 1998                     \\\\\n",
       "\t 4096714                   & 2017-05-11 15:30:11       & 2017-05-11 15:41:43       &  692                      & Lexington Ave \\& E 63 St & 1 Ave \\& E 78 St         & Subscriber                & Male                      & 1981                     \\\\\n",
       "\t 2173887                   & 2017-03-29 13:26:26       & 2017-03-29 13:48:31       & 1325                      & 1 Pl \\& Clinton St       & Henry St \\& Degraw St    & Subscriber                & Male                      & 1987                     \\\\\n",
       "\t 3945638                   & 2017-05-08 19:47:18       & 2017-05-08 19:59:01       &  703                      & Barrow St \\& Hudson St   & W 20 St \\& 8 Ave         & Subscriber                & Female                    & 1986                     \\\\\n",
       "\t 6208972                   & 2017-06-21 07:49:16       & 2017-06-21 07:54:46       &  329                      & 1 Ave \\& E 44 St         & E 53 St \\& 3 Ave         & Subscriber                & Male                      & 1992                     \\\\\n",
       "\t 1285652                   & 2017-02-22 18:55:24       & 2017-02-22 19:12:03       &  998                      & State St \\& Smith St     & Bond St \\& Fulton St     & Subscriber                & Male                      & 1986                     \\\\\n",
       "\\end{tabular}\n"
      ],
      "text/markdown": [
       "\n",
       "| X | Start.Time | End.Time | Trip.Duration | Start.Station | End.Station | User.Type | Gender | Birth.Year |\n",
       "|---|---|---|---|---|---|---|---|---|\n",
       "| 5688089                 | 2017-06-11 14:55:05     | 2017-06-11 15:08:21     |  795                    | Suffolk St & Stanton St | W Broadway & Spring St  | Subscriber              | Male                    | 1998                    |\n",
       "| 4096714                 | 2017-05-11 15:30:11     | 2017-05-11 15:41:43     |  692                    | Lexington Ave & E 63 St | 1 Ave & E 78 St         | Subscriber              | Male                    | 1981                    |\n",
       "| 2173887                 | 2017-03-29 13:26:26     | 2017-03-29 13:48:31     | 1325                    | 1 Pl & Clinton St       | Henry St & Degraw St    | Subscriber              | Male                    | 1987                    |\n",
       "| 3945638                 | 2017-05-08 19:47:18     | 2017-05-08 19:59:01     |  703                    | Barrow St & Hudson St   | W 20 St & 8 Ave         | Subscriber              | Female                  | 1986                    |\n",
       "| 6208972                 | 2017-06-21 07:49:16     | 2017-06-21 07:54:46     |  329                    | 1 Ave & E 44 St         | E 53 St & 3 Ave         | Subscriber              | Male                    | 1992                    |\n",
       "| 1285652                 | 2017-02-22 18:55:24     | 2017-02-22 19:12:03     |  998                    | State St & Smith St     | Bond St & Fulton St     | Subscriber              | Male                    | 1986                    |\n",
       "\n"
      ],
      "text/plain": [
       "  X       Start.Time          End.Time            Trip.Duration\n",
       "1 5688089 2017-06-11 14:55:05 2017-06-11 15:08:21  795         \n",
       "2 4096714 2017-05-11 15:30:11 2017-05-11 15:41:43  692         \n",
       "3 2173887 2017-03-29 13:26:26 2017-03-29 13:48:31 1325         \n",
       "4 3945638 2017-05-08 19:47:18 2017-05-08 19:59:01  703         \n",
       "5 6208972 2017-06-21 07:49:16 2017-06-21 07:54:46  329         \n",
       "6 1285652 2017-02-22 18:55:24 2017-02-22 19:12:03  998         \n",
       "  Start.Station           End.Station            User.Type  Gender Birth.Year\n",
       "1 Suffolk St & Stanton St W Broadway & Spring St Subscriber Male   1998      \n",
       "2 Lexington Ave & E 63 St 1 Ave & E 78 St        Subscriber Male   1981      \n",
       "3 1 Pl & Clinton St       Henry St & Degraw St   Subscriber Male   1987      \n",
       "4 Barrow St & Hudson St   W 20 St & 8 Ave        Subscriber Female 1986      \n",
       "5 1 Ave & E 44 St         E 53 St & 3 Ave        Subscriber Male   1992      \n",
       "6 State St & Smith St     Bond St & Fulton St    Subscriber Male   1986      "
      ]
     },
     "metadata": {},
     "output_type": "display_data"
    }
   ],
   "source": [
    "head(ny)"
   ]
  },
  {
   "cell_type": "code",
   "execution_count": 312,
   "metadata": {
    "graffitiCellId": "id_apuhv8t"
   },
   "outputs": [
    {
     "data": {
      "text/html": [
       "<table>\n",
       "<thead><tr><th scope=col>X</th><th scope=col>Start.Time</th><th scope=col>End.Time</th><th scope=col>Trip.Duration</th><th scope=col>Start.Station</th><th scope=col>End.Station</th><th scope=col>User.Type</th></tr></thead>\n",
       "<tbody>\n",
       "\t<tr><td>1621326                                                                                        </td><td>2017-06-21 08:36:34                                                                            </td><td>2017-06-21 08:44:43                                                                            </td><td> 489.066                                                                                       </td><td><span style=white-space:pre-wrap>14th &amp; Belmont St NW                       </span>        </td><td><span style=white-space:pre-wrap>15th &amp; K St NW                                     </span></td><td>Subscriber                                                                                     </td></tr>\n",
       "\t<tr><td> 482740                                                                                        </td><td>2017-03-11 10:40:00                                                                            </td><td>2017-03-11 10:46:00                                                                            </td><td> 402.549                                                                                       </td><td><span style=white-space:pre-wrap>Yuma St &amp; Tenley Circle NW                 </span>        </td><td><span style=white-space:pre-wrap>Connecticut Ave &amp; Yuma St NW                       </span></td><td>Subscriber                                                                                     </td></tr>\n",
       "\t<tr><td>1330037                                                                                        </td><td>2017-05-30 01:02:59                                                                            </td><td>2017-05-30 01:13:37                                                                            </td><td> 637.251                                                                                       </td><td><span style=white-space:pre-wrap>17th St &amp; Massachusetts Ave NW             </span>        </td><td><span style=white-space:pre-wrap>5th &amp; K St NW                                      </span></td><td>Subscriber                                                                                     </td></tr>\n",
       "\t<tr><td> 665458                                                                                        </td><td>2017-04-02 07:48:35                                                                            </td><td>2017-04-02 08:19:03                                                                            </td><td>1827.341                                                                                       </td><td><span style=white-space:pre-wrap>Constitution Ave &amp; 2nd St NW/DOL           </span>        </td><td><span style=white-space:pre-wrap>M St &amp; Pennsylvania Ave NW                         </span></td><td><span style=white-space:pre-wrap>Customer  </span>                                             </td></tr>\n",
       "\t<tr><td>1481135                                                                                        </td><td>2017-06-10 08:36:28                                                                            </td><td>2017-06-10 09:02:17                                                                            </td><td>1549.427                                                                                       </td><td>Henry Bacon Dr &amp; Lincoln Memorial Circle NW                                                </td><td><span style=white-space:pre-wrap>Maine Ave &amp; 7th St SW                              </span></td><td>Subscriber                                                                                     </td></tr>\n",
       "\t<tr><td>1148202                                                                                </td><td>2017-05-14 07:18:18                                                                    </td><td>2017-05-14 07:24:56                                                                    </td><td> 398.000                                                                               </td><td><span style=white-space:pre-wrap>1st &amp; K St SE                              </span></td><td>Eastern Market Metro / Pennsylvania Ave &amp; 7th St SE                                </td><td>Subscriber                                                                             </td></tr>\n",
       "</tbody>\n",
       "</table>\n"
      ],
      "text/latex": [
       "\\begin{tabular}{r|lllllll}\n",
       " X & Start.Time & End.Time & Trip.Duration & Start.Station & End.Station & User.Type\\\\\n",
       "\\hline\n",
       "\t 1621326                                               & 2017-06-21 08:36:34                                   & 2017-06-21 08:44:43                                   &  489.066                                              & 14th \\& Belmont St NW                                & 15th \\& K St NW                                      & Subscriber                                           \\\\\n",
       "\t  482740                                               & 2017-03-11 10:40:00                                   & 2017-03-11 10:46:00                                   &  402.549                                              & Yuma St \\& Tenley Circle NW                          & Connecticut Ave \\& Yuma St NW                        & Subscriber                                           \\\\\n",
       "\t 1330037                                               & 2017-05-30 01:02:59                                   & 2017-05-30 01:13:37                                   &  637.251                                              & 17th St \\& Massachusetts Ave NW                      & 5th \\& K St NW                                       & Subscriber                                           \\\\\n",
       "\t  665458                                               & 2017-04-02 07:48:35                                   & 2017-04-02 08:19:03                                   & 1827.341                                              & Constitution Ave \\& 2nd St NW/DOL                    & M St \\& Pennsylvania Ave NW                          & Customer                                             \\\\\n",
       "\t 1481135                                               & 2017-06-10 08:36:28                                   & 2017-06-10 09:02:17                                   & 1549.427                                              & Henry Bacon Dr \\& Lincoln Memorial Circle NW         & Maine Ave \\& 7th St SW                               & Subscriber                                           \\\\\n",
       "\t 1148202                                               & 2017-05-14 07:18:18                                   & 2017-05-14 07:24:56                                   &  398.000                                              & 1st \\& K St SE                                       & Eastern Market Metro / Pennsylvania Ave \\& 7th St SE & Subscriber                                           \\\\\n",
       "\\end{tabular}\n"
      ],
      "text/markdown": [
       "\n",
       "| X | Start.Time | End.Time | Trip.Duration | Start.Station | End.Station | User.Type |\n",
       "|---|---|---|---|---|---|---|\n",
       "| 1621326                                             | 2017-06-21 08:36:34                                 | 2017-06-21 08:44:43                                 |  489.066                                            | 14th & Belmont St NW                                | 15th & K St NW                                      | Subscriber                                          |\n",
       "|  482740                                             | 2017-03-11 10:40:00                                 | 2017-03-11 10:46:00                                 |  402.549                                            | Yuma St & Tenley Circle NW                          | Connecticut Ave & Yuma St NW                        | Subscriber                                          |\n",
       "| 1330037                                             | 2017-05-30 01:02:59                                 | 2017-05-30 01:13:37                                 |  637.251                                            | 17th St & Massachusetts Ave NW                      | 5th & K St NW                                       | Subscriber                                          |\n",
       "|  665458                                             | 2017-04-02 07:48:35                                 | 2017-04-02 08:19:03                                 | 1827.341                                            | Constitution Ave & 2nd St NW/DOL                    | M St & Pennsylvania Ave NW                          | Customer                                            |\n",
       "| 1481135                                             | 2017-06-10 08:36:28                                 | 2017-06-10 09:02:17                                 | 1549.427                                            | Henry Bacon Dr & Lincoln Memorial Circle NW         | Maine Ave & 7th St SW                               | Subscriber                                          |\n",
       "| 1148202                                             | 2017-05-14 07:18:18                                 | 2017-05-14 07:24:56                                 |  398.000                                            | 1st & K St SE                                       | Eastern Market Metro / Pennsylvania Ave & 7th St SE | Subscriber                                          |\n",
       "\n"
      ],
      "text/plain": [
       "  X       Start.Time          End.Time            Trip.Duration\n",
       "1 1621326 2017-06-21 08:36:34 2017-06-21 08:44:43  489.066     \n",
       "2  482740 2017-03-11 10:40:00 2017-03-11 10:46:00  402.549     \n",
       "3 1330037 2017-05-30 01:02:59 2017-05-30 01:13:37  637.251     \n",
       "4  665458 2017-04-02 07:48:35 2017-04-02 08:19:03 1827.341     \n",
       "5 1481135 2017-06-10 08:36:28 2017-06-10 09:02:17 1549.427     \n",
       "6 1148202 2017-05-14 07:18:18 2017-05-14 07:24:56  398.000     \n",
       "  Start.Station                              \n",
       "1 14th & Belmont St NW                       \n",
       "2 Yuma St & Tenley Circle NW                 \n",
       "3 17th St & Massachusetts Ave NW             \n",
       "4 Constitution Ave & 2nd St NW/DOL           \n",
       "5 Henry Bacon Dr & Lincoln Memorial Circle NW\n",
       "6 1st & K St SE                              \n",
       "  End.Station                                         User.Type \n",
       "1 15th & K St NW                                      Subscriber\n",
       "2 Connecticut Ave & Yuma St NW                        Subscriber\n",
       "3 5th & K St NW                                       Subscriber\n",
       "4 M St & Pennsylvania Ave NW                          Customer  \n",
       "5 Maine Ave & 7th St SW                               Subscriber\n",
       "6 Eastern Market Metro / Pennsylvania Ave & 7th St SE Subscriber"
      ]
     },
     "metadata": {},
     "output_type": "display_data"
    }
   ],
   "source": [
    "head(wash)"
   ]
  },
  {
   "cell_type": "code",
   "execution_count": 313,
   "metadata": {
    "graffitiCellId": "id_prz0v1k"
   },
   "outputs": [
    {
     "data": {
      "text/html": [
       "<table>\n",
       "<thead><tr><th scope=col>X</th><th scope=col>Start.Time</th><th scope=col>End.Time</th><th scope=col>Trip.Duration</th><th scope=col>Start.Station</th><th scope=col>End.Station</th><th scope=col>User.Type</th><th scope=col>Gender</th><th scope=col>Birth.Year</th></tr></thead>\n",
       "<tbody>\n",
       "\t<tr><td>1423854                                                                  </td><td>2017-06-23 15:09:32                                                      </td><td>2017-06-23 15:14:53                                                      </td><td> 321                                                                     </td><td><span style=white-space:pre-wrap>Wood St &amp; Hubbard St         </span></td><td><span style=white-space:pre-wrap>Damen Ave &amp; Chicago Ave     </span> </td><td>Subscriber                                                               </td><td><span style=white-space:pre-wrap>Male  </span>                           </td><td>1992                                                                     </td></tr>\n",
       "\t<tr><td> 955915                                                              </td><td>2017-05-25 18:19:03                                                  </td><td>2017-05-25 18:45:53                                                  </td><td>1610                                                                 </td><td><span style=white-space:pre-wrap>Theater on the Lake          </span></td><td>Sheffield Ave &amp; Waveland Ave                                     </td><td>Subscriber                                                           </td><td>Female                                                               </td><td>1992                                                                 </td></tr>\n",
       "\t<tr><td><span style=white-space:pre-wrap>   9031</span>                          </td><td>2017-01-04 08:27:49                                                      </td><td>2017-01-04 08:34:45                                                      </td><td> 416                                                                     </td><td><span style=white-space:pre-wrap>May St &amp; Taylor St           </span></td><td><span style=white-space:pre-wrap>Wood St &amp; Taylor St         </span> </td><td>Subscriber                                                               </td><td><span style=white-space:pre-wrap>Male  </span>                           </td><td>1981                                                                     </td></tr>\n",
       "\t<tr><td> 304487                                       </td><td>2017-03-06 13:49:38                           </td><td>2017-03-06 13:55:28                           </td><td> 350                                          </td><td>Christiana Ave &amp; Lawrence Ave             </td><td>St. Louis Ave &amp; Balmoral Ave              </td><td>Subscriber                                    </td><td><span style=white-space:pre-wrap>Male  </span></td><td>1986                                          </td></tr>\n",
       "\t<tr><td><span style=white-space:pre-wrap>  45207</span>                          </td><td>2017-01-17 14:53:07                                                      </td><td>2017-01-17 15:02:01                                                      </td><td> 534                                                                     </td><td><span style=white-space:pre-wrap>Clark St &amp; Randolph St       </span></td><td>Desplaines St &amp; Jackson Blvd                                         </td><td>Subscriber                                                               </td><td><span style=white-space:pre-wrap>Male  </span>                           </td><td>1975                                                                     </td></tr>\n",
       "\t<tr><td>1473887                                                                 </td><td>2017-06-26 09:01:20                                                     </td><td>2017-06-26 09:11:06                                                     </td><td> 586                                                                    </td><td>Clinton St &amp; Washington Blvd                                        </td><td><span style=white-space:pre-wrap>Canal St &amp; Taylor St        </span></td><td>Subscriber                                                              </td><td><span style=white-space:pre-wrap>Male  </span>                          </td><td>1990                                                                    </td></tr>\n",
       "</tbody>\n",
       "</table>\n"
      ],
      "text/latex": [
       "\\begin{tabular}{r|lllllllll}\n",
       " X & Start.Time & End.Time & Trip.Duration & Start.Station & End.Station & User.Type & Gender & Birth.Year\\\\\n",
       "\\hline\n",
       "\t 1423854                         & 2017-06-23 15:09:32             & 2017-06-23 15:14:53             &  321                            & Wood St \\& Hubbard St          & Damen Ave \\& Chicago Ave       & Subscriber                      & Male                            & 1992                           \\\\\n",
       "\t  955915                        & 2017-05-25 18:19:03            & 2017-05-25 18:45:53            & 1610                           & Theater on the Lake            & Sheffield Ave \\& Waveland Ave & Subscriber                     & Female                         & 1992                          \\\\\n",
       "\t    9031                         & 2017-01-04 08:27:49             & 2017-01-04 08:34:45             &  416                            & May St \\& Taylor St            & Wood St \\& Taylor St           & Subscriber                      & Male                            & 1981                           \\\\\n",
       "\t  304487                         & 2017-03-06 13:49:38             & 2017-03-06 13:55:28             &  350                            & Christiana Ave \\& Lawrence Ave & St. Louis Ave \\& Balmoral Ave  & Subscriber                      & Male                            & 1986                           \\\\\n",
       "\t   45207                         & 2017-01-17 14:53:07             & 2017-01-17 15:02:01             &  534                            & Clark St \\& Randolph St        & Desplaines St \\& Jackson Blvd  & Subscriber                      & Male                            & 1975                           \\\\\n",
       "\t 1473887                         & 2017-06-26 09:01:20             & 2017-06-26 09:11:06             &  586                            & Clinton St \\& Washington Blvd  & Canal St \\& Taylor St          & Subscriber                      & Male                            & 1990                           \\\\\n",
       "\\end{tabular}\n"
      ],
      "text/markdown": [
       "\n",
       "| X | Start.Time | End.Time | Trip.Duration | Start.Station | End.Station | User.Type | Gender | Birth.Year |\n",
       "|---|---|---|---|---|---|---|---|---|\n",
       "| 1423854                       | 2017-06-23 15:09:32           | 2017-06-23 15:14:53           |  321                          | Wood St & Hubbard St          | Damen Ave & Chicago Ave       | Subscriber                    | Male                          | 1992                          |\n",
       "|  955915                       | 2017-05-25 18:19:03           | 2017-05-25 18:45:53           | 1610                          | Theater on the Lake           | Sheffield Ave & Waveland Ave  | Subscriber                    | Female                        | 1992                          |\n",
       "|    9031                       | 2017-01-04 08:27:49           | 2017-01-04 08:34:45           |  416                          | May St & Taylor St            | Wood St & Taylor St           | Subscriber                    | Male                          | 1981                          |\n",
       "|  304487                       | 2017-03-06 13:49:38           | 2017-03-06 13:55:28           |  350                          | Christiana Ave & Lawrence Ave | St. Louis Ave & Balmoral Ave  | Subscriber                    | Male                          | 1986                          |\n",
       "|   45207                       | 2017-01-17 14:53:07           | 2017-01-17 15:02:01           |  534                          | Clark St & Randolph St        | Desplaines St & Jackson Blvd  | Subscriber                    | Male                          | 1975                          |\n",
       "| 1473887                       | 2017-06-26 09:01:20           | 2017-06-26 09:11:06           |  586                          | Clinton St & Washington Blvd  | Canal St & Taylor St          | Subscriber                    | Male                          | 1990                          |\n",
       "\n"
      ],
      "text/plain": [
       "  X       Start.Time          End.Time            Trip.Duration\n",
       "1 1423854 2017-06-23 15:09:32 2017-06-23 15:14:53  321         \n",
       "2  955915 2017-05-25 18:19:03 2017-05-25 18:45:53 1610         \n",
       "3    9031 2017-01-04 08:27:49 2017-01-04 08:34:45  416         \n",
       "4  304487 2017-03-06 13:49:38 2017-03-06 13:55:28  350         \n",
       "5   45207 2017-01-17 14:53:07 2017-01-17 15:02:01  534         \n",
       "6 1473887 2017-06-26 09:01:20 2017-06-26 09:11:06  586         \n",
       "  Start.Station                 End.Station                  User.Type  Gender\n",
       "1 Wood St & Hubbard St          Damen Ave & Chicago Ave      Subscriber Male  \n",
       "2 Theater on the Lake           Sheffield Ave & Waveland Ave Subscriber Female\n",
       "3 May St & Taylor St            Wood St & Taylor St          Subscriber Male  \n",
       "4 Christiana Ave & Lawrence Ave St. Louis Ave & Balmoral Ave Subscriber Male  \n",
       "5 Clark St & Randolph St        Desplaines St & Jackson Blvd Subscriber Male  \n",
       "6 Clinton St & Washington Blvd  Canal St & Taylor St         Subscriber Male  \n",
       "  Birth.Year\n",
       "1 1992      \n",
       "2 1992      \n",
       "3 1981      \n",
       "4 1986      \n",
       "5 1975      \n",
       "6 1990      "
      ]
     },
     "metadata": {},
     "output_type": "display_data"
    }
   ],
   "source": [
    "head(chi)"
   ]
  },
  {
   "cell_type": "code",
   "execution_count": 314,
   "metadata": {
    "graffitiCellId": "id_6h2j17m"
   },
   "outputs": [],
   "source": [
    "# Add a new column (City) to each dataset,\n",
    "# to distinguish after merging.\n",
    "ny$City <- 'New York City'\n",
    "wash$City <- 'Washington'\n",
    "chi$City <- 'Chicago'"
   ]
  },
  {
   "cell_type": "code",
   "execution_count": 315,
   "metadata": {
    "graffitiCellId": "id_my8xg3f"
   },
   "outputs": [
    {
     "data": {
      "text/html": [
       "<table>\n",
       "<thead><tr><th scope=col>X</th><th scope=col>Start.Time</th><th scope=col>End.Time</th><th scope=col>Trip.Duration</th><th scope=col>Start.Station</th><th scope=col>End.Station</th><th scope=col>User.Type</th><th scope=col>City</th><th scope=col>Gender</th><th scope=col>Birth.Year</th></tr></thead>\n",
       "<tbody>\n",
       "\t<tr><td> 7                                                   </td><td>2017-01-01 00:11:00                                  </td><td>2017-01-01 00:14:00                                  </td><td>200.077                                              </td><td>Adams Mill &amp; Columbia Rd NW                      </td><td>Calvert St &amp; Woodley Pl NW                       </td><td>Subscriber                                           </td><td><span style=white-space:pre-wrap>Washington   </span></td><td><span style=white-space:pre-wrap>NA  </span>         </td><td><span style=white-space:pre-wrap>  NA</span>         </td></tr>\n",
       "\t<tr><td>13                                                                     </td><td>2017-01-01 00:16:00                                                    </td><td>2017-01-01 00:26:00                                                    </td><td>600.116                                                                </td><td><span style=white-space:pre-wrap>Prince St &amp; Union St       </span></td><td><span style=white-space:pre-wrap>King St Metro South       </span>     </td><td>Subscriber                                                             </td><td><span style=white-space:pre-wrap>Washington   </span>                  </td><td><span style=white-space:pre-wrap>NA  </span>                           </td><td><span style=white-space:pre-wrap>  NA</span>                           </td></tr>\n",
       "\t<tr><td>21                                                                    </td><td>2017-01-01 00:23:00                                                   </td><td>2017-01-01 00:32:00                                                   </td><td>543.776                                                               </td><td>New Hampshire Ave &amp; T St NW                                       </td><td><span style=white-space:pre-wrap>11th &amp; O St NW            </span></td><td>Subscriber                                                            </td><td><span style=white-space:pre-wrap>Washington   </span>                 </td><td><span style=white-space:pre-wrap>NA  </span>                          </td><td><span style=white-space:pre-wrap>  NA</span>                          </td></tr>\n",
       "\t<tr><td>36                                                                     </td><td>2017-01-01 00:40:14                                                    </td><td>2017-01-01 00:46:32                                                    </td><td>378.000                                                                </td><td><span style=white-space:pre-wrap>Ritchie Ct &amp; Banks St      </span></td><td><span style=white-space:pre-wrap>Clark St &amp; Lincoln Ave    </span> </td><td>Subscriber                                                             </td><td><span style=white-space:pre-wrap>Chicago      </span>                  </td><td>Male                                                                   </td><td>1964                                                                   </td></tr>\n",
       "\t<tr><td>47                                                                     </td><td>2017-01-01 00:17:01                                                    </td><td>2017-01-01 00:32:20                                                    </td><td>919.000                                                                </td><td><span style=white-space:pre-wrap>W 27 St &amp; 7 Ave            </span></td><td><span style=white-space:pre-wrap>E 17 St &amp; Broadway        </span> </td><td><span style=white-space:pre-wrap>Customer  </span>                     </td><td>New York City                                                          </td><td><span style=white-space:pre-wrap>    </span>                           </td><td><span style=white-space:pre-wrap>  NA</span>                           </td></tr>\n",
       "\t<tr><td>61                                                                     </td><td>2017-01-01 00:52:00                                                    </td><td>2017-01-01 00:57:00                                                    </td><td>274.500                                                                </td><td><span style=white-space:pre-wrap>14th St &amp; New York Ave NW  </span></td><td><span style=white-space:pre-wrap>12th &amp; L St NW            </span> </td><td>Subscriber                                                             </td><td><span style=white-space:pre-wrap>Washington   </span>                  </td><td><span style=white-space:pre-wrap>NA  </span>                           </td><td><span style=white-space:pre-wrap>  NA</span>                           </td></tr>\n",
       "</tbody>\n",
       "</table>\n"
      ],
      "text/latex": [
       "\\begin{tabular}{r|llllllllll}\n",
       " X & Start.Time & End.Time & Trip.Duration & Start.Station & End.Station & User.Type & City & Gender & Birth.Year\\\\\n",
       "\\hline\n",
       "\t  7                            & 2017-01-01 00:11:00           & 2017-01-01 00:14:00           & 200.077                       & Adams Mill \\& Columbia Rd NW & Calvert St \\& Woodley Pl NW  & Subscriber                    & Washington                    & NA                            &   NA                         \\\\\n",
       "\t 13                            & 2017-01-01 00:16:00           & 2017-01-01 00:26:00           & 600.116                       & Prince St \\& Union St        & King St Metro South           & Subscriber                    & Washington                    & NA                            &   NA                         \\\\\n",
       "\t 21                            & 2017-01-01 00:23:00           & 2017-01-01 00:32:00           & 543.776                       & New Hampshire Ave \\& T St NW & 11th \\& O St NW              & Subscriber                    & Washington                    & NA                            &   NA                         \\\\\n",
       "\t 36                            & 2017-01-01 00:40:14           & 2017-01-01 00:46:32           & 378.000                       & Ritchie Ct \\& Banks St       & Clark St \\& Lincoln Ave      & Subscriber                    & Chicago                       & Male                          & 1964                         \\\\\n",
       "\t 47                            & 2017-01-01 00:17:01           & 2017-01-01 00:32:20           & 919.000                       & W 27 St \\& 7 Ave             & E 17 St \\& Broadway          & Customer                      & New York City                 &                               &   NA                         \\\\\n",
       "\t 61                            & 2017-01-01 00:52:00           & 2017-01-01 00:57:00           & 274.500                       & 14th St \\& New York Ave NW   & 12th \\& L St NW              & Subscriber                    & Washington                    & NA                            &   NA                         \\\\\n",
       "\\end{tabular}\n"
      ],
      "text/markdown": [
       "\n",
       "| X | Start.Time | End.Time | Trip.Duration | Start.Station | End.Station | User.Type | City | Gender | Birth.Year |\n",
       "|---|---|---|---|---|---|---|---|---|---|\n",
       "|  7                          | 2017-01-01 00:11:00         | 2017-01-01 00:14:00         | 200.077                     | Adams Mill & Columbia Rd NW | Calvert St & Woodley Pl NW  | Subscriber                  | Washington                  | NA                          |   NA                        |\n",
       "| 13                          | 2017-01-01 00:16:00         | 2017-01-01 00:26:00         | 600.116                     | Prince St & Union St        | King St Metro South         | Subscriber                  | Washington                  | NA                          |   NA                        |\n",
       "| 21                          | 2017-01-01 00:23:00         | 2017-01-01 00:32:00         | 543.776                     | New Hampshire Ave & T St NW | 11th & O St NW              | Subscriber                  | Washington                  | NA                          |   NA                        |\n",
       "| 36                          | 2017-01-01 00:40:14         | 2017-01-01 00:46:32         | 378.000                     | Ritchie Ct & Banks St       | Clark St & Lincoln Ave      | Subscriber                  | Chicago                     | Male                        | 1964                        |\n",
       "| 47                          | 2017-01-01 00:17:01         | 2017-01-01 00:32:20         | 919.000                     | W 27 St & 7 Ave             | E 17 St & Broadway          | Customer                    | New York City               |                             |   NA                        |\n",
       "| 61                          | 2017-01-01 00:52:00         | 2017-01-01 00:57:00         | 274.500                     | 14th St & New York Ave NW   | 12th & L St NW              | Subscriber                  | Washington                  | NA                          |   NA                        |\n",
       "\n"
      ],
      "text/plain": [
       "  X  Start.Time          End.Time            Trip.Duration\n",
       "1  7 2017-01-01 00:11:00 2017-01-01 00:14:00 200.077      \n",
       "2 13 2017-01-01 00:16:00 2017-01-01 00:26:00 600.116      \n",
       "3 21 2017-01-01 00:23:00 2017-01-01 00:32:00 543.776      \n",
       "4 36 2017-01-01 00:40:14 2017-01-01 00:46:32 378.000      \n",
       "5 47 2017-01-01 00:17:01 2017-01-01 00:32:20 919.000      \n",
       "6 61 2017-01-01 00:52:00 2017-01-01 00:57:00 274.500      \n",
       "  Start.Station               End.Station                User.Type \n",
       "1 Adams Mill & Columbia Rd NW Calvert St & Woodley Pl NW Subscriber\n",
       "2 Prince St & Union St        King St Metro South        Subscriber\n",
       "3 New Hampshire Ave & T St NW 11th & O St NW             Subscriber\n",
       "4 Ritchie Ct & Banks St       Clark St & Lincoln Ave     Subscriber\n",
       "5 W 27 St & 7 Ave             E 17 St & Broadway         Customer  \n",
       "6 14th St & New York Ave NW   12th & L St NW             Subscriber\n",
       "  City          Gender Birth.Year\n",
       "1 Washington    NA       NA      \n",
       "2 Washington    NA       NA      \n",
       "3 Washington    NA       NA      \n",
       "4 Chicago       Male   1964      \n",
       "5 New York City          NA      \n",
       "6 Washington    NA       NA      "
      ]
     },
     "metadata": {},
     "output_type": "display_data"
    }
   ],
   "source": [
    "# Place all 3 data frames into a list.\n",
    "df_all <- list(ny, wash, chi)\n",
    "\n",
    "# Merge all 3 data frames from the list.\n",
    "df_final <- Reduce(function(x, y) merge(x, y, all = TRUE), df_all)\n",
    "                   \n",
    "head(df_final)"
   ]
  },
  {
   "cell_type": "code",
   "execution_count": 316,
   "metadata": {
    "graffitiCellId": "id_q3lld79"
   },
   "outputs": [
    {
     "data": {
      "text/html": [
       "'integer'"
      ],
      "text/latex": [
       "'integer'"
      ],
      "text/markdown": [
       "'integer'"
      ],
      "text/plain": [
       "[1] \"integer\""
      ]
     },
     "metadata": {},
     "output_type": "display_data"
    }
   ],
   "source": [
    "# Convert Trip.Duration column to integer.\n",
    "df_final$Trip.Duration <- as.integer(df_final$Trip.Duration)  \n",
    "\n",
    "# To verify datatype.\n",
    "class(df_final$Trip.Duration)"
   ]
  },
  {
   "cell_type": "code",
   "execution_count": 317,
   "metadata": {},
   "outputs": [
    {
     "data": {
      "text/html": [
       "152451"
      ],
      "text/latex": [
       "152451"
      ],
      "text/markdown": [
       "152451"
      ],
      "text/plain": [
       "[1] 152451"
      ]
     },
     "metadata": {},
     "output_type": "display_data"
    },
    {
     "data": {
      "text/html": [
       "152330"
      ],
      "text/latex": [
       "152330"
      ],
      "text/markdown": [
       "152330"
      ],
      "text/plain": [
       "[1] 152330"
      ]
     },
     "metadata": {},
     "output_type": "display_data"
    }
   ],
   "source": [
    "# Displays the number of rows for comparison before removing rows with NA values.\n",
    "nrow(df_final)\n",
    "\n",
    "# Removes rows with NA values from the User.Type column.\n",
    "df_final <- df_final[!(df_final$User.Type == \"\" | is.na(df_final$User.Type)), ]\n",
    "\n",
    "# Removes rows with NA values from the City column.\n",
    "df_final <- df_final[!(df_final$City == \"\" | is.na(df_final$City)), ]\n",
    "\n",
    "# Displays the number of rows for comparison after removing rows with NA values.\n",
    "nrow(df_final)"
   ]
  },
  {
   "cell_type": "markdown",
   "metadata": {
    "graffitiCellId": "id_tj5c1lx"
   },
   "source": [
    "### Question 1\n",
    "\n",
    "# Are There More Customers or Subscribers in Each City?"
   ]
  },
  {
   "cell_type": "markdown",
   "metadata": {},
   "source": [
    "\n"
   ]
  },
  {
   "cell_type": "code",
   "execution_count": 318,
   "metadata": {
    "graffitiCellId": "id_gk07t48"
   },
   "outputs": [
    {
     "data": {
      "text/html": [
       "<table>\n",
       "<thead><tr><th scope=col>User.Type</th><th scope=col>City</th></tr></thead>\n",
       "<tbody>\n",
       "\t<tr><td>Subscriber   </td><td>Washington   </td></tr>\n",
       "\t<tr><td>Subscriber   </td><td>Washington   </td></tr>\n",
       "\t<tr><td>Subscriber   </td><td>Washington   </td></tr>\n",
       "\t<tr><td>Subscriber   </td><td>Chicago      </td></tr>\n",
       "\t<tr><td>Customer     </td><td>New York City</td></tr>\n",
       "\t<tr><td>Subscriber   </td><td>Washington   </td></tr>\n",
       "</tbody>\n",
       "</table>\n"
      ],
      "text/latex": [
       "\\begin{tabular}{r|ll}\n",
       " User.Type & City\\\\\n",
       "\\hline\n",
       "\t Subscriber    & Washington   \\\\\n",
       "\t Subscriber    & Washington   \\\\\n",
       "\t Subscriber    & Washington   \\\\\n",
       "\t Subscriber    & Chicago      \\\\\n",
       "\t Customer      & New York City\\\\\n",
       "\t Subscriber    & Washington   \\\\\n",
       "\\end{tabular}\n"
      ],
      "text/markdown": [
       "\n",
       "| User.Type | City |\n",
       "|---|---|\n",
       "| Subscriber    | Washington    |\n",
       "| Subscriber    | Washington    |\n",
       "| Subscriber    | Washington    |\n",
       "| Subscriber    | Chicago       |\n",
       "| Customer      | New York City |\n",
       "| Subscriber    | Washington    |\n",
       "\n"
      ],
      "text/plain": [
       "  User.Type  City         \n",
       "1 Subscriber Washington   \n",
       "2 Subscriber Washington   \n",
       "3 Subscriber Washington   \n",
       "4 Subscriber Chicago      \n",
       "5 Customer   New York City\n",
       "6 Subscriber Washington   "
      ]
     },
     "metadata": {},
     "output_type": "display_data"
    }
   ],
   "source": [
    "# Creates a copy of the dataframe with only 2 columns.\n",
    "df_final1 <- df_final[, c('User.Type', 'City')]\n",
    "\n",
    "head(df_final1)"
   ]
  },
  {
   "cell_type": "code",
   "execution_count": 319,
   "metadata": {
    "graffitiCellId": "id_i1aearx"
   },
   "outputs": [
    {
     "data": {
      "text/html": [
       "<table>\n",
       "<thead><tr><th scope=col>City</th><th scope=col>User.Type</th><th scope=col>Total</th></tr></thead>\n",
       "<tbody>\n",
       "\t<tr><td>Chicago      </td><td>Customer     </td><td> 1746        </td></tr>\n",
       "\t<tr><td>Chicago      </td><td>Subscriber   </td><td> 6883        </td></tr>\n",
       "\t<tr><td>New York City</td><td>Customer     </td><td> 5558        </td></tr>\n",
       "\t<tr><td>New York City</td><td>Subscriber   </td><td>49093        </td></tr>\n",
       "\t<tr><td>Washington   </td><td>Customer     </td><td>23450        </td></tr>\n",
       "\t<tr><td>Washington   </td><td>Subscriber   </td><td>65600        </td></tr>\n",
       "</tbody>\n",
       "</table>\n"
      ],
      "text/latex": [
       "\\begin{tabular}{r|lll}\n",
       " City & User.Type & Total\\\\\n",
       "\\hline\n",
       "\t Chicago       & Customer      &  1746        \\\\\n",
       "\t Chicago       & Subscriber    &  6883        \\\\\n",
       "\t New York City & Customer      &  5558        \\\\\n",
       "\t New York City & Subscriber    & 49093        \\\\\n",
       "\t Washington    & Customer      & 23450        \\\\\n",
       "\t Washington    & Subscriber    & 65600        \\\\\n",
       "\\end{tabular}\n"
      ],
      "text/markdown": [
       "\n",
       "| City | User.Type | Total |\n",
       "|---|---|---|\n",
       "| Chicago       | Customer      |  1746         |\n",
       "| Chicago       | Subscriber    |  6883         |\n",
       "| New York City | Customer      |  5558         |\n",
       "| New York City | Subscriber    | 49093         |\n",
       "| Washington    | Customer      | 23450         |\n",
       "| Washington    | Subscriber    | 65600         |\n",
       "\n"
      ],
      "text/plain": [
       "  City          User.Type  Total\n",
       "1 Chicago       Customer    1746\n",
       "2 Chicago       Subscriber  6883\n",
       "3 New York City Customer    5558\n",
       "4 New York City Subscriber 49093\n",
       "5 Washington    Customer   23450\n",
       "6 Washington    Subscriber 65600"
      ]
     },
     "metadata": {},
     "output_type": "display_data"
    }
   ],
   "source": [
    "# Creates a copy of the dataframe, which is grouped by City and \n",
    "# User.Type, and the values counted and placed in a new column. \n",
    "df_sub_cities <- df_final1 %>%\n",
    "    group_by(City, User.Type) %>% \n",
    "    summarize(Total = n(), .groups = 'drop') %>%\n",
    "    as.data.frame()\n",
    "\n",
    "head(df_sub_cities)"
   ]
  },
  {
   "cell_type": "code",
   "execution_count": 320,
   "metadata": {
    "graffitiCellId": "id_80hv43k"
   },
   "outputs": [
    {
     "data": {
      "image/png": "[encoded data removed]",
      "text/plain": [
       "plot without title"
      ]
     },
     "metadata": {},
     "output_type": "display_data"
    }
   ],
   "source": [
    "# Creates a faceted scatter plot.\n",
    "df_sub_cities %>%\n",
    "    ggplot(aes(User.Type, Total, color = User.Type)) +\n",
    "    geom_point(size = 6) +\n",
    "    geom_smooth(method = lm, se = F) +\n",
    "    facet_wrap(~City) +\n",
    "    ggtitle('Total Amount of Customers and Subscribers') +\n",
    "    theme_bw() +\n",
    "    theme(plot.title = element_text(hjust = 0.5)) +\n",
    "    theme(plot.title = element_text(hjust = 0.5)) "
   ]
  },
  {
   "cell_type": "markdown",
   "metadata": {
    "graffitiCellId": "id_2dupsjb"
   },
   "source": [
    "## There are significantly more Subscribers than Customers in all 3 cities."
   ]
  },
  {
   "cell_type": "markdown",
   "metadata": {},
   "source": [
    "\n"
   ]
  },
  {
   "cell_type": "markdown",
   "metadata": {
    "graffitiCellId": "id_oq2datl"
   },
   "source": [
    "### Question 2\n",
    "\n",
    "# Do Users Return to the Same Station or a Different Station?"
   ]
  },
  {
   "cell_type": "markdown",
   "metadata": {},
   "source": [
    "\n"
   ]
  },
  {
   "cell_type": "code",
   "execution_count": 321,
   "metadata": {},
   "outputs": [],
   "source": [
    "# Creates a copy of the dataframe with only 3 columns.\n",
    "df_final2 = df_final[, c('User.Type', 'Start.Station', 'End.Station')]"
   ]
  },
  {
   "cell_type": "code",
   "execution_count": 322,
   "metadata": {},
   "outputs": [],
   "source": [
    "# Convert datatypes in 2 columns to character.\n",
    "df_final2$Start.Station <- as.character(df_final2$Start.Station)\n",
    "\n",
    "df_final2$End.Station <- as.character(df_final2$End.Station)"
   ]
  },
  {
   "cell_type": "code",
   "execution_count": 323,
   "metadata": {
    "graffitiCellId": "id_9scm5ba"
   },
   "outputs": [
    {
     "data": {
      "text/html": [
       "<table>\n",
       "<thead><tr><th scope=col>User.Type</th><th scope=col>Start.Station</th><th scope=col>End.Station</th><th scope=col>Return.Station</th></tr></thead>\n",
       "<tbody>\n",
       "\t<tr><td>Subscriber                     </td><td>Adams Mill &amp; Columbia Rd NW</td><td>Calvert St &amp; Woodley Pl NW </td><td>Different                      </td></tr>\n",
       "\t<tr><td>Subscriber                                                             </td><td><span style=white-space:pre-wrap>Prince St &amp; Union St       </span></td><td><span style=white-space:pre-wrap>King St Metro South       </span>     </td><td>Different                                                              </td></tr>\n",
       "\t<tr><td>Subscriber                                                            </td><td>New Hampshire Ave &amp; T St NW                                       </td><td><span style=white-space:pre-wrap>11th &amp; O St NW            </span></td><td>Different                                                             </td></tr>\n",
       "\t<tr><td>Subscriber                                                             </td><td><span style=white-space:pre-wrap>Ritchie Ct &amp; Banks St      </span></td><td><span style=white-space:pre-wrap>Clark St &amp; Lincoln Ave    </span> </td><td>Different                                                              </td></tr>\n",
       "\t<tr><td><span style=white-space:pre-wrap>Customer  </span>                     </td><td><span style=white-space:pre-wrap>W 27 St &amp; 7 Ave            </span></td><td><span style=white-space:pre-wrap>E 17 St &amp; Broadway        </span> </td><td>Different                                                              </td></tr>\n",
       "\t<tr><td>Subscriber                                                             </td><td><span style=white-space:pre-wrap>14th St &amp; New York Ave NW  </span></td><td><span style=white-space:pre-wrap>12th &amp; L St NW            </span> </td><td>Different                                                              </td></tr>\n",
       "</tbody>\n",
       "</table>\n"
      ],
      "text/latex": [
       "\\begin{tabular}{r|llll}\n",
       " User.Type & Start.Station & End.Station & Return.Station\\\\\n",
       "\\hline\n",
       "\t Subscriber                    & Adams Mill \\& Columbia Rd NW & Calvert St \\& Woodley Pl NW  & Different                    \\\\\n",
       "\t Subscriber                    & Prince St \\& Union St        & King St Metro South           & Different                    \\\\\n",
       "\t Subscriber                    & New Hampshire Ave \\& T St NW & 11th \\& O St NW              & Different                    \\\\\n",
       "\t Subscriber                    & Ritchie Ct \\& Banks St       & Clark St \\& Lincoln Ave      & Different                    \\\\\n",
       "\t Customer                      & W 27 St \\& 7 Ave             & E 17 St \\& Broadway          & Different                    \\\\\n",
       "\t Subscriber                    & 14th St \\& New York Ave NW   & 12th \\& L St NW              & Different                    \\\\\n",
       "\\end{tabular}\n"
      ],
      "text/markdown": [
       "\n",
       "| User.Type | Start.Station | End.Station | Return.Station |\n",
       "|---|---|---|---|\n",
       "| Subscriber                  | Adams Mill & Columbia Rd NW | Calvert St & Woodley Pl NW  | Different                   |\n",
       "| Subscriber                  | Prince St & Union St        | King St Metro South         | Different                   |\n",
       "| Subscriber                  | New Hampshire Ave & T St NW | 11th & O St NW              | Different                   |\n",
       "| Subscriber                  | Ritchie Ct & Banks St       | Clark St & Lincoln Ave      | Different                   |\n",
       "| Customer                    | W 27 St & 7 Ave             | E 17 St & Broadway          | Different                   |\n",
       "| Subscriber                  | 14th St & New York Ave NW   | 12th & L St NW              | Different                   |\n",
       "\n"
      ],
      "text/plain": [
       "  User.Type  Start.Station               End.Station               \n",
       "1 Subscriber Adams Mill & Columbia Rd NW Calvert St & Woodley Pl NW\n",
       "2 Subscriber Prince St & Union St        King St Metro South       \n",
       "3 Subscriber New Hampshire Ave & T St NW 11th & O St NW            \n",
       "4 Subscriber Ritchie Ct & Banks St       Clark St & Lincoln Ave    \n",
       "5 Customer   W 27 St & 7 Ave             E 17 St & Broadway        \n",
       "6 Subscriber 14th St & New York Ave NW   12th & L St NW            \n",
       "  Return.Station\n",
       "1 Different     \n",
       "2 Different     \n",
       "3 Different     \n",
       "4 Different     \n",
       "5 Different     \n",
       "6 Different     "
      ]
     },
     "metadata": {},
     "output_type": "display_data"
    }
   ],
   "source": [
    "# Creates a column and inserts value based on condition.\n",
    "df_final2$Return.Station = ifelse(df_final2$Start.Station == df_final2$End.Station, 'Same', 'Different')\n",
    "\n",
    "head(df_final2)"
   ]
  },
  {
   "cell_type": "code",
   "execution_count": 324,
   "metadata": {
    "graffitiCellId": "id_qhuz9jp",
    "scrolled": true
   },
   "outputs": [
    {
     "data": {
      "text/html": [
       "<table>\n",
       "<thead><tr><th scope=col>User.Type</th><th scope=col>Return.Station</th><th scope=col>Total</th></tr></thead>\n",
       "<tbody>\n",
       "\t<tr><td>Customer  </td><td>Different </td><td> 27607    </td></tr>\n",
       "\t<tr><td>Customer  </td><td>Same      </td><td>  3147    </td></tr>\n",
       "\t<tr><td>Subscriber</td><td>Different </td><td>119744    </td></tr>\n",
       "\t<tr><td>Subscriber</td><td>Same      </td><td>  1832    </td></tr>\n",
       "</tbody>\n",
       "</table>\n"
      ],
      "text/latex": [
       "\\begin{tabular}{r|lll}\n",
       " User.Type & Return.Station & Total\\\\\n",
       "\\hline\n",
       "\t Customer   & Different  &  27607    \\\\\n",
       "\t Customer   & Same       &   3147    \\\\\n",
       "\t Subscriber & Different  & 119744    \\\\\n",
       "\t Subscriber & Same       &   1832    \\\\\n",
       "\\end{tabular}\n"
      ],
      "text/markdown": [
       "\n",
       "| User.Type | Return.Station | Total |\n",
       "|---|---|---|\n",
       "| Customer   | Different  |  27607     |\n",
       "| Customer   | Same       |   3147     |\n",
       "| Subscriber | Different  | 119744     |\n",
       "| Subscriber | Same       |   1832     |\n",
       "\n"
      ],
      "text/plain": [
       "  User.Type  Return.Station Total \n",
       "1 Customer   Different       27607\n",
       "2 Customer   Same             3147\n",
       "3 Subscriber Different      119744\n",
       "4 Subscriber Same             1832"
      ]
     },
     "metadata": {},
     "output_type": "display_data"
    }
   ],
   "source": [
    "# Creates a copy of the dataframe, which is grouped by User.Type and \n",
    "# Return.Station, and the values counted and placed in a new column.\n",
    "df_sub_cities2 <- df_final2 %>%\n",
    "    group_by(User.Type, Return.Station) %>% \n",
    "    summarize(Total = n(), .groups = 'drop') %>%\n",
    "    as.data.frame()\n",
    "\n",
    "head(df_sub_cities2)"
   ]
  },
  {
   "cell_type": "code",
   "execution_count": 325,
   "metadata": {},
   "outputs": [
    {
     "data": {
      "image/png": "[encoded data removed]",
      "text/plain": [
       "plot without title"
      ]
     },
     "metadata": {},
     "output_type": "display_data"
    }
   ],
   "source": [
    "# Creates 2 bar graphs for comparison.\n",
    "ggplot(df_sub_cities2, aes(x = Return.Station, y=Total, fill = User.Type)) + \n",
    "    geom_bar(stat = 'identity', position = 'dodge') +\n",
    "    ggtitle('Return Station by User Type') +\n",
    "    theme_classic() +\n",
    "    theme(plot.title = element_text(hjust = 0.5)) +\n",
    "    theme(plot.title = element_text(hjust = 0.5)) "
   ]
  },
  {
   "cell_type": "markdown",
   "metadata": {},
   "source": [
    "## Nearly all users return to a different station, and the majority are subscribers."
   ]
  },
  {
   "cell_type": "markdown",
   "metadata": {},
   "source": [
    "\n"
   ]
  },
  {
   "cell_type": "markdown",
   "metadata": {
    "graffitiCellId": "id_tj5c1lx"
   },
   "source": [
    "### Question 3\n",
    "\n",
    "# Which City Has the Longest Trip Duration Average?"
   ]
  },
  {
   "cell_type": "markdown",
   "metadata": {},
   "source": [
    "\n"
   ]
  },
  {
   "cell_type": "code",
   "execution_count": 326,
   "metadata": {
    "graffitiCellId": "id_cyfqwpl",
    "scrolled": true
   },
   "outputs": [
    {
     "data": {
      "text/html": [
       "<table>\n",
       "<thead><tr><th scope=col>City</th><th scope=col>Trip.Duration</th></tr></thead>\n",
       "<tbody>\n",
       "\t<tr><td>Washington   </td><td>200          </td></tr>\n",
       "\t<tr><td>Washington   </td><td>600          </td></tr>\n",
       "\t<tr><td>Washington   </td><td>543          </td></tr>\n",
       "\t<tr><td>Chicago      </td><td>378          </td></tr>\n",
       "\t<tr><td>New York City</td><td>919          </td></tr>\n",
       "\t<tr><td>Washington   </td><td>274          </td></tr>\n",
       "</tbody>\n",
       "</table>\n"
      ],
      "text/latex": [
       "\\begin{tabular}{r|ll}\n",
       " City & Trip.Duration\\\\\n",
       "\\hline\n",
       "\t Washington    & 200          \\\\\n",
       "\t Washington    & 600          \\\\\n",
       "\t Washington    & 543          \\\\\n",
       "\t Chicago       & 378          \\\\\n",
       "\t New York City & 919          \\\\\n",
       "\t Washington    & 274          \\\\\n",
       "\\end{tabular}\n"
      ],
      "text/markdown": [
       "\n",
       "| City | Trip.Duration |\n",
       "|---|---|\n",
       "| Washington    | 200           |\n",
       "| Washington    | 600           |\n",
       "| Washington    | 543           |\n",
       "| Chicago       | 378           |\n",
       "| New York City | 919           |\n",
       "| Washington    | 274           |\n",
       "\n"
      ],
      "text/plain": [
       "  City          Trip.Duration\n",
       "1 Washington    200          \n",
       "2 Washington    600          \n",
       "3 Washington    543          \n",
       "4 Chicago       378          \n",
       "5 New York City 919          \n",
       "6 Washington    274          "
      ]
     },
     "metadata": {},
     "output_type": "display_data"
    }
   ],
   "source": [
    "# Creates a copy of the dataframe with only 2 columns.\n",
    "df_final3 <- df_final[, c('City', 'Trip.Duration')]\n",
    "\n",
    "head(df_final3)"
   ]
  },
  {
   "cell_type": "code",
   "execution_count": 327,
   "metadata": {},
   "outputs": [
    {
     "data": {
      "text/html": [
       "<table>\n",
       "<thead><tr><th scope=col>City</th><th scope=col>Trip.Duration</th></tr></thead>\n",
       "<tbody>\n",
       "\t<tr><td>Chicago      </td><td> 936.9314    </td></tr>\n",
       "\t<tr><td>New York City</td><td> 901.5961    </td></tr>\n",
       "\t<tr><td>Washington   </td><td>1233.4533    </td></tr>\n",
       "</tbody>\n",
       "</table>\n"
      ],
      "text/latex": [
       "\\begin{tabular}{r|ll}\n",
       " City & Trip.Duration\\\\\n",
       "\\hline\n",
       "\t Chicago       &  936.9314    \\\\\n",
       "\t New York City &  901.5961    \\\\\n",
       "\t Washington    & 1233.4533    \\\\\n",
       "\\end{tabular}\n"
      ],
      "text/markdown": [
       "\n",
       "| City | Trip.Duration |\n",
       "|---|---|\n",
       "| Chicago       |  936.9314     |\n",
       "| New York City |  901.5961     |\n",
       "| Washington    | 1233.4533     |\n",
       "\n"
      ],
      "text/plain": [
       "  City          Trip.Duration\n",
       "1 Chicago        936.9314    \n",
       "2 New York City  901.5961    \n",
       "3 Washington    1233.4533    "
      ]
     },
     "metadata": {},
     "output_type": "display_data"
    }
   ],
   "source": [
    "# Calculates the mean for each city.\n",
    "df_sub_cities3 <- aggregate(.~City, data = df_final3, mean)\n",
    "\n",
    "df_sub_cities3"
   ]
  },
  {
   "cell_type": "code",
   "execution_count": 328,
   "metadata": {},
   "outputs": [
    {
     "data": {
      "text/html": [
       "<table>\n",
       "<thead><tr><th scope=col>City</th><th scope=col>Trip.Duration</th></tr></thead>\n",
       "<tbody>\n",
       "\t<tr><td>Chicago      </td><td> 936         </td></tr>\n",
       "\t<tr><td>New York City</td><td> 901         </td></tr>\n",
       "\t<tr><td>Washington   </td><td>1233         </td></tr>\n",
       "</tbody>\n",
       "</table>\n"
      ],
      "text/latex": [
       "\\begin{tabular}{r|ll}\n",
       " City & Trip.Duration\\\\\n",
       "\\hline\n",
       "\t Chicago       &  936         \\\\\n",
       "\t New York City &  901         \\\\\n",
       "\t Washington    & 1233         \\\\\n",
       "\\end{tabular}\n"
      ],
      "text/markdown": [
       "\n",
       "| City | Trip.Duration |\n",
       "|---|---|\n",
       "| Chicago       |  936          |\n",
       "| New York City |  901          |\n",
       "| Washington    | 1233          |\n",
       "\n"
      ],
      "text/plain": [
       "  City          Trip.Duration\n",
       "1 Chicago        936         \n",
       "2 New York City  901         \n",
       "3 Washington    1233         "
      ]
     },
     "metadata": {},
     "output_type": "display_data"
    }
   ],
   "source": [
    "# Converts the column to integer.\n",
    "df_sub_cities3$Trip.Duration <- as.integer(df_sub_cities3$Trip.Duration) \n",
    "\n",
    "df_sub_cities3"
   ]
  },
  {
   "cell_type": "code",
   "execution_count": 329,
   "metadata": {},
   "outputs": [
    {
     "data": {
      "image/png": "[encoded data removed]",
      "text/plain": [
       "plot without title"
      ]
     },
     "metadata": {},
     "output_type": "display_data"
    }
   ],
   "source": [
    "# Creates a tile plot graph.\n",
    "ggplot(df_sub_cities3, aes(x = City, y = Trip.Duration, fill = Trip.Duration)) +\n",
    "    geom_tile() +\n",
    "    scale_fill_gradient(low = \"white\", high = \"blue\") +\n",
    "    ggtitle('Average Trip Duration in Cities (minutes)') +\n",
    "    theme_dark() +\n",
    "    theme(plot.title = element_text(hjust = 0.5)) +\n",
    "    theme(plot.title = element_text(hjust = 0.5)) "
   ]
  },
  {
   "cell_type": "markdown",
   "metadata": {},
   "source": [
    "## Washington has the longest trip duration average of the 3 cities."
   ]
  },
  {
   "cell_type": "markdown",
   "metadata": {},
   "source": [
    "\n"
   ]
  },
  {
   "cell_type": "markdown",
   "metadata": {
    "graffitiCellId": "id_gm8t81f"
   },
   "source": [
    "### Question 4\n",
    "\n",
    "# Do Customers or Subscribers Have a Longer Trip Duration Average?"
   ]
  },
  {
   "cell_type": "markdown",
   "metadata": {},
   "source": [
    "\n"
   ]
  },
  {
   "cell_type": "code",
   "execution_count": 330,
   "metadata": {
    "graffitiCellId": "id_cyfqwpl",
    "scrolled": true
   },
   "outputs": [
    {
     "data": {
      "text/html": [
       "<table>\n",
       "<thead><tr><th scope=col>User.Type</th><th scope=col>Trip.Duration</th></tr></thead>\n",
       "<tbody>\n",
       "\t<tr><td>Subscriber</td><td>200       </td></tr>\n",
       "\t<tr><td>Subscriber</td><td>600       </td></tr>\n",
       "\t<tr><td>Subscriber</td><td>543       </td></tr>\n",
       "\t<tr><td>Subscriber</td><td>378       </td></tr>\n",
       "\t<tr><td>Customer  </td><td>919       </td></tr>\n",
       "\t<tr><td>Subscriber</td><td>274       </td></tr>\n",
       "</tbody>\n",
       "</table>\n"
      ],
      "text/latex": [
       "\\begin{tabular}{r|ll}\n",
       " User.Type & Trip.Duration\\\\\n",
       "\\hline\n",
       "\t Subscriber & 200       \\\\\n",
       "\t Subscriber & 600       \\\\\n",
       "\t Subscriber & 543       \\\\\n",
       "\t Subscriber & 378       \\\\\n",
       "\t Customer   & 919       \\\\\n",
       "\t Subscriber & 274       \\\\\n",
       "\\end{tabular}\n"
      ],
      "text/markdown": [
       "\n",
       "| User.Type | Trip.Duration |\n",
       "|---|---|\n",
       "| Subscriber | 200        |\n",
       "| Subscriber | 600        |\n",
       "| Subscriber | 543        |\n",
       "| Subscriber | 378        |\n",
       "| Customer   | 919        |\n",
       "| Subscriber | 274        |\n",
       "\n"
      ],
      "text/plain": [
       "  User.Type  Trip.Duration\n",
       "1 Subscriber 200          \n",
       "2 Subscriber 600          \n",
       "3 Subscriber 543          \n",
       "4 Subscriber 378          \n",
       "5 Customer   919          \n",
       "6 Subscriber 274          "
      ]
     },
     "metadata": {},
     "output_type": "display_data"
    }
   ],
   "source": [
    "# Creates a copy of the dataframe with only 2 columns.\n",
    "df_final4 <- df_final[, c('User.Type', 'Trip.Duration')]\n",
    "\n",
    "head(df_final4)"
   ]
  },
  {
   "cell_type": "code",
   "execution_count": 331,
   "metadata": {},
   "outputs": [
    {
     "data": {
      "text/html": [
       "<table>\n",
       "<thead><tr><th scope=col>User.Type</th><th scope=col>Trip.Duration</th></tr></thead>\n",
       "<tbody>\n",
       "\t<tr><td>Subscriber</td><td>200       </td></tr>\n",
       "\t<tr><td>Subscriber</td><td>600       </td></tr>\n",
       "\t<tr><td>Subscriber</td><td>543       </td></tr>\n",
       "\t<tr><td>Subscriber</td><td>378       </td></tr>\n",
       "\t<tr><td>Customer  </td><td>919       </td></tr>\n",
       "\t<tr><td>Subscriber</td><td>274       </td></tr>\n",
       "</tbody>\n",
       "</table>\n"
      ],
      "text/latex": [
       "\\begin{tabular}{r|ll}\n",
       " User.Type & Trip.Duration\\\\\n",
       "\\hline\n",
       "\t Subscriber & 200       \\\\\n",
       "\t Subscriber & 600       \\\\\n",
       "\t Subscriber & 543       \\\\\n",
       "\t Subscriber & 378       \\\\\n",
       "\t Customer   & 919       \\\\\n",
       "\t Subscriber & 274       \\\\\n",
       "\\end{tabular}\n"
      ],
      "text/markdown": [
       "\n",
       "| User.Type | Trip.Duration |\n",
       "|---|---|\n",
       "| Subscriber | 200        |\n",
       "| Subscriber | 600        |\n",
       "| Subscriber | 543        |\n",
       "| Subscriber | 378        |\n",
       "| Customer   | 919        |\n",
       "| Subscriber | 274        |\n",
       "\n"
      ],
      "text/plain": [
       "  User.Type  Trip.Duration\n",
       "1 Subscriber 200          \n",
       "2 Subscriber 600          \n",
       "3 Subscriber 543          \n",
       "4 Subscriber 378          \n",
       "5 Customer   919          \n",
       "6 Subscriber 274          "
      ]
     },
     "metadata": {},
     "output_type": "display_data"
    }
   ],
   "source": [
    "# Convert datatypes 2 columns.\n",
    "df_final4$User.Type <- as.character(df_final4$User.Type) \n",
    "\n",
    "df_final4$Trip.Duration <- as.integer(df_final4$Trip.Duration) \n",
    "\n",
    "head(df_final4)"
   ]
  },
  {
   "cell_type": "code",
   "execution_count": 332,
   "metadata": {},
   "outputs": [
    {
     "data": {
      "text/html": [
       "<table>\n",
       "<thead><tr><th scope=col>User.Type</th><th scope=col>Trip.Duration</th></tr></thead>\n",
       "<tbody>\n",
       "\t<tr><td>Customer  </td><td>2514.2913 </td></tr>\n",
       "\t<tr><td>Subscriber</td><td> 739.2283 </td></tr>\n",
       "</tbody>\n",
       "</table>\n"
      ],
      "text/latex": [
       "\\begin{tabular}{r|ll}\n",
       " User.Type & Trip.Duration\\\\\n",
       "\\hline\n",
       "\t Customer   & 2514.2913 \\\\\n",
       "\t Subscriber &  739.2283 \\\\\n",
       "\\end{tabular}\n"
      ],
      "text/markdown": [
       "\n",
       "| User.Type | Trip.Duration |\n",
       "|---|---|\n",
       "| Customer   | 2514.2913  |\n",
       "| Subscriber |  739.2283  |\n",
       "\n"
      ],
      "text/plain": [
       "  User.Type  Trip.Duration\n",
       "1 Customer   2514.2913    \n",
       "2 Subscriber  739.2283    "
      ]
     },
     "metadata": {},
     "output_type": "display_data"
    }
   ],
   "source": [
    "# Calculates the mean for each user type.\n",
    "df_sub_cities4 <- aggregate(.~User.Type, data = df_final4, mean)\n",
    "\n",
    "df_sub_cities4"
   ]
  },
  {
   "cell_type": "code",
   "execution_count": 333,
   "metadata": {},
   "outputs": [
    {
     "data": {
      "text/html": [
       "<table>\n",
       "<thead><tr><th scope=col>User.Type</th><th scope=col>Trip.Duration</th></tr></thead>\n",
       "<tbody>\n",
       "\t<tr><td>Customer  </td><td>2514      </td></tr>\n",
       "\t<tr><td>Subscriber</td><td> 739      </td></tr>\n",
       "</tbody>\n",
       "</table>\n"
      ],
      "text/latex": [
       "\\begin{tabular}{r|ll}\n",
       " User.Type & Trip.Duration\\\\\n",
       "\\hline\n",
       "\t Customer   & 2514      \\\\\n",
       "\t Subscriber &  739      \\\\\n",
       "\\end{tabular}\n"
      ],
      "text/markdown": [
       "\n",
       "| User.Type | Trip.Duration |\n",
       "|---|---|\n",
       "| Customer   | 2514       |\n",
       "| Subscriber |  739       |\n",
       "\n"
      ],
      "text/plain": [
       "  User.Type  Trip.Duration\n",
       "1 Customer   2514         \n",
       "2 Subscriber  739         "
      ]
     },
     "metadata": {},
     "output_type": "display_data"
    }
   ],
   "source": [
    "# Converts the column to integer.\n",
    "df_sub_cities4$Trip.Duration <- as.integer(df_sub_cities4$Trip.Duration) \n",
    "\n",
    "df_sub_cities4"
   ]
  },
  {
   "cell_type": "code",
   "execution_count": 334,
   "metadata": {},
   "outputs": [
    {
     "data": {
      "image/png": "[encoded data removed]",
      "text/plain": [
       "plot without title"
      ]
     },
     "metadata": {},
     "output_type": "display_data"
    }
   ],
   "source": [
    "# Creates a pie chart.\n",
    "ggplot(df_sub_cities4, aes(x = ' ', y = Trip.Duration, fill = User.Type)) +\n",
    "    geom_bar(stat = \"identity\", color = \"purple\") +\n",
    "    coord_polar(theta = \"y\") + \n",
    "    theme_void() +\n",
    "    geom_label(aes(label = Trip.Duration),\n",
    "    position = position_stack(vjust = .5), show.legend = FALSE) +\n",
    "    ggtitle('Average Trip Duration by User Type (minutes)') +\n",
    "    theme(plot.title = element_text(hjust = 0.5)) +\n",
    "    theme(plot.title = element_text(hjust = 0.5))    "
   ]
  },
  {
   "cell_type": "markdown",
   "metadata": {
    "graffitiCellId": "id_9izvt59"
   },
   "source": [
    "## Customers triple the trip duration average of subscribers (2,514 minutes = 1.75 days)."
   ]
  },
  {
   "cell_type": "markdown",
   "metadata": {},
   "source": [
    "\n"
   ]
  }
 ],
 "metadata": {
  "graffiti": {
   "firstAuthorId": "dev",
   "id": "id_tmek8a9",
   "language": "EN"
  },
  "kernelspec": {
   "display_name": "R",
   "language": "R",
   "name": "ir"
  },
  "language_info": {
   "codemirror_mode": "r",
   "file_extension": ".r",
   "mimetype": "text/x-r-source",
   "name": "R",
   "pygments_lexer": "r",
   "version": "3.6.1"
  }
 },
 "nbformat": 4,
 "nbformat_minor": 2
}
